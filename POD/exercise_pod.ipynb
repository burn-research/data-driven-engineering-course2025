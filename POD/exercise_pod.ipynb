{
 "cells": [
  {
   "cell_type": "markdown",
   "metadata": {},
   "source": [
    "# Exercise: POD on pictures of digits\n",
    "\n",
    "POD can be applied to compress and classify images.\n",
    "\n",
    "## Dataset\n",
    "\n",
    "The dataset contains a number of low-resolution handwritten digits. "
   ]
  },
  {
   "cell_type": "code",
   "execution_count": 2,
   "metadata": {},
   "outputs": [
    {
     "data": {
      "image/png": "[encoded data removed]",
      "text/plain": [
       "<Figure size 432x288 with 1 Axes>"
      ]
     },
     "metadata": {},
     "output_type": "display_data"
    }
   ],
   "source": [
    "import numpy as np\n",
    "import matplotlib.pyplot as plt\n",
    "from sklearn.datasets import load_digits\n",
    "\n",
    "def plot_image(image, label=None, cmap='Grays'):\n",
    "    fig, ax = plt.subplots()\n",
    "    ax.imshow(image.reshape(im_shape), cmap)\n",
    "    ax.set_xticks([])\n",
    "    ax.set_yticks([])\n",
    "\n",
    "    if label is not None:\n",
    "        ax.set_title(label)\n",
    "\n",
    "    plt.show()\n",
    "\n",
    "digits_images = load_digits().data  # images dataset size 1767x64\n",
    "digits_labels = load_digits().target # images labels size 1767\n",
    "\n",
    "n_samples = digits_labels.size\n",
    "im_shape = (8,8)\n",
    "\n",
    "plot_image(digits_images[0, :], digits_labels[0])"
   ]
  },
  {
   "cell_type": "markdown",
   "metadata": {},
   "source": [
    "## To do:\n",
    "\n",
    "- Split into training and test dataset\n",
    "- Center the train dataset\n",
    "- Apply the SVD\n",
    "- Check the distribution of the eigenvalues\n",
    "- Plot the clustering based on the first 2 eigenmodes\n",
    "- Look at the distribution of the testing dataset"
   ]
  },
  {
   "cell_type": "code",
   "execution_count": null,
   "metadata": {},
   "outputs": [],
   "source": [
    "from sklearn.model_selection import train_test_split\n",
    "\n",
    "# Hint:\n",
    "# - Use the function train_test_split\n"
   ]
  },
  {
   "cell_type": "markdown",
   "metadata": {},
   "source": [
    "## To do:\n",
    "- Compute the low-dimensional projection of the first test image\n",
    "- Plot the coefficients together with the coefficients of the training dataset."
   ]
  }
 ],
 "metadata": {
  "kernelspec": {
   "display_name": "env_ml2",
   "language": "python",
   "name": "python3"
  },
  "language_info": {
   "codemirror_mode": {
    "name": "ipython",
    "version": 3
   },
   "file_extension": ".py",
   "mimetype": "text/x-python",
   "name": "python",
   "nbconvert_exporter": "python",
   "pygments_lexer": "ipython3",
   "version": "3.9.16"
  }
 },
 "nbformat": 4,
 "nbformat_minor": 2
}
