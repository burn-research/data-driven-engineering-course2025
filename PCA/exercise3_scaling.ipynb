{
 "cells": [
  {
   "cell_type": "markdown",
   "metadata": {},
   "source": [
    "# 2 Session : PCA\n",
    "\n",
    "## Exercise 3: Data scaling\n",
    "\n",
    "The goal of this exercise is to explore how data scaling affects the PCA projection.\n",
    "\n",
    "In general the data matrix, $\\mathbf{X}$, can be centered and scaled as follows:\n",
    "\n",
    "$$\n",
    "\\tilde{\\mathbf{X}} = (\\mathbf{X} - \\mathbf{C}) \\mathbf{D}^{-1}\n",
    "$$\n",
    "\n",
    "where $\\mathbf{C}$ is a matrix of centers and $\\mathbf{D}$ is a diagonal matrix of scales. We will denote the $i$th variable in a dataset as $X_i$.\n",
    "\n",
    "The matrix of centers is populated by the mean values of each variable:\n",
    "\n",
    "$$\n",
    "\\begin{gather}\n",
    "\\mathbf{C} = \n",
    "\\begin{bmatrix}\n",
    "c_1 & c_2 &  \\dots & c_n \\\\\n",
    "c_1 & c_2 &  \\dots & c_n \\\\\n",
    "c_1 & c_2 & \\dots & c_n \\\\\n",
    "\\vdots \\\\\n",
    "c_1 & c_2 & \\dots & c_n \\\\\n",
    "\\end{bmatrix}\n",
    "\\end{gather}\n",
    "$$\n",
    "\n",
    "where $c_i = mean(X_i)$.\n",
    "\n",
    "In contrast, the diagonal of the matrix of scales can be populated in many different ways. In general, we can write:\n",
    "\n",
    "$$\n",
    "\\begin{gather}\n",
    "\\mathbf{D} = \n",
    "\\begin{bmatrix}\n",
    "d_1 & 0 & 0 & 0 & 0 & \\dots & 0 \\\\\n",
    "0 & d_2 & 0 & 0 & 0 & \\dots & 0 \\\\\n",
    "0 & 0 & d_3 & 0 & 0 & \\dots & 0 \\\\\n",
    "\\vdots \\\\\n",
    "0 & 0 & 0 & 0 & 0 & \\dots & d_n \\\\\n",
    "\\end{bmatrix}\n",
    "\\end{gather}\n",
    "$$\n",
    "\n",
    "where $d_i$ is the scaling factor applied on the $i$th variable $X_i$.\n",
    "\n",
    "In this exercise, we will explore three ways of scaling the data:\n",
    "\n",
    "- No scaling, where:\n",
    "\n",
    "$$\n",
    "d_i = 1\n",
    "$$\n",
    "\n",
    "- Standard (auto) scaling, where:\n",
    "\n",
    "$$\n",
    "d_i = std(X_i)\n",
    "$$\n",
    "\n",
    "- VAriable STability (VAST) scaling, where:\n",
    "\n",
    "$$\n",
    "d_i = std(X_i)^2 / mean(X_i)\n",
    "$$\n",
    "\n",
    "\n",
    "\n",
    "**Note, that `sklearn`'s PCA always centers the data, but does not scale the data! You have to handle the scaling by yourself.**\n",
    "\n",
    "***"
   ]
  },
  {
   "cell_type": "code",
   "execution_count": 1,
   "metadata": {},
   "outputs": [],
   "source": [
    "import numpy as np\n",
    "import matplotlib.pyplot as plt\n",
    "import pandas as pd\n",
    "from sklearn.decomposition import PCA\n",
    "\n",
    "%matplotlib inline"
   ]
  },
  {
   "cell_type": "markdown",
   "metadata": {},
   "source": [
    "We will use the wine dataset, which has 178 observations and 13 variables. "
   ]
  },
  {
   "cell_type": "code",
   "execution_count": 2,
   "metadata": {},
   "outputs": [],
   "source": [
    "from sklearn.datasets import load_wine\n",
    "\n",
    "wine_data = load_wine().data\n",
    "feature_names  = load_wine().feature_names\n",
    "n_features     = len(feature_names)"
   ]
  },
  {
   "cell_type": "markdown",
   "metadata": {},
   "source": [
    "There are three distinct wine classes in the data, and we can access the classification of each wine observation:"
   ]
  },
  {
   "cell_type": "code",
   "execution_count": 3,
   "metadata": {},
   "outputs": [],
   "source": [
    "wine_target = load_wine().target\n",
    "target_names = load_wine().target_names"
   ]
  },
  {
   "cell_type": "code",
   "execution_count": 4,
   "metadata": {},
   "outputs": [
    {
     "name": "stdout",
     "output_type": "stream",
     "text": [
      "wine_data shape    = (178, 13)\n",
      "Feature names      = ['alcohol', 'malic_acid', 'ash'] ...\n",
      "n_features         = 13 \n",
      "\n",
      "Wine_target shape  = (178,)\n",
      "Target names       = ['class_0' 'class_1' 'class_2']\n",
      "len(target_names)  = 3\n"
     ]
    }
   ],
   "source": [
    "print(f'wine_data shape    = {wine_data.shape}')\n",
    "print(f'Feature names      = {feature_names[0:3]} ...')\n",
    "print(f'n_features         = {n_features} \\n')\n",
    "\n",
    "print(f'Wine_target shape  = {wine_target.shape}')\n",
    "print(f'Target names       = {target_names}')\n",
    "print(f'len(target_names)  = {len(target_names)}')"
   ]
  },
  {
   "cell_type": "markdown",
   "metadata": {},
   "source": [
    "We will compute PCA using all 13 principal components:"
   ]
  },
  {
   "cell_type": "code",
   "execution_count": 5,
   "metadata": {},
   "outputs": [],
   "source": [
    "n_components = 13"
   ]
  },
  {
   "cell_type": "markdown",
   "metadata": {},
   "source": [
    "## PCA with no data scaling"
   ]
  },
  {
   "cell_type": "markdown",
   "metadata": {},
   "source": [
    "We can inspect the wine data sets when variables are not scaled. For this purpose, the `pandas` library is very useful. We can show 10 first rows of the data matrix.\n",
    "\n",
    "You can see that different wine parameters have different numerical ranges:"
   ]
  },
  {
   "cell_type": "code",
   "execution_count": 6,
   "metadata": {},
   "outputs": [
    {
     "data": {
      "text/html": [
       "<div>\n",
       "<style scoped>\n",
       "    .dataframe tbody tr th:only-of-type {\n",
       "        vertical-align: middle;\n",
       "    }\n",
       "\n",
       "    .dataframe tbody tr th {\n",
       "        vertical-align: top;\n",
       "    }\n",
       "\n",
       "    .dataframe thead th {\n",
       "        text-align: right;\n",
       "    }\n",
       "</style>\n",
       "<table border=\"1\" class=\"dataframe\">\n",
       "  <thead>\n",
       "    <tr style=\"text-align: right;\">\n",
       "      <th></th>\n",
       "      <th>alcohol</th>\n",
       "      <th>malic_acid</th>\n",
       "      <th>ash</th>\n",
       "      <th>alcalinity_of_ash</th>\n",
       "      <th>magnesium</th>\n",
       "      <th>total_phenols</th>\n",
       "      <th>flavanoids</th>\n",
       "      <th>nonflavanoid_phenols</th>\n",
       "      <th>proanthocyanins</th>\n",
       "      <th>color_intensity</th>\n",
       "      <th>hue</th>\n",
       "      <th>od280/od315_of_diluted_wines</th>\n",
       "      <th>proline</th>\n",
       "    </tr>\n",
       "  </thead>\n",
       "  <tbody>\n",
       "    <tr>\n",
       "      <th>0</th>\n",
       "      <td>14.23</td>\n",
       "      <td>1.71</td>\n",
       "      <td>2.43</td>\n",
       "      <td>15.6</td>\n",
       "      <td>127.0</td>\n",
       "      <td>2.80</td>\n",
       "      <td>3.06</td>\n",
       "      <td>0.28</td>\n",
       "      <td>2.29</td>\n",
       "      <td>5.64</td>\n",
       "      <td>1.04</td>\n",
       "      <td>3.92</td>\n",
       "      <td>1065.0</td>\n",
       "    </tr>\n",
       "    <tr>\n",
       "      <th>1</th>\n",
       "      <td>13.20</td>\n",
       "      <td>1.78</td>\n",
       "      <td>2.14</td>\n",
       "      <td>11.2</td>\n",
       "      <td>100.0</td>\n",
       "      <td>2.65</td>\n",
       "      <td>2.76</td>\n",
       "      <td>0.26</td>\n",
       "      <td>1.28</td>\n",
       "      <td>4.38</td>\n",
       "      <td>1.05</td>\n",
       "      <td>3.40</td>\n",
       "      <td>1050.0</td>\n",
       "    </tr>\n",
       "    <tr>\n",
       "      <th>2</th>\n",
       "      <td>13.16</td>\n",
       "      <td>2.36</td>\n",
       "      <td>2.67</td>\n",
       "      <td>18.6</td>\n",
       "      <td>101.0</td>\n",
       "      <td>2.80</td>\n",
       "      <td>3.24</td>\n",
       "      <td>0.30</td>\n",
       "      <td>2.81</td>\n",
       "      <td>5.68</td>\n",
       "      <td>1.03</td>\n",
       "      <td>3.17</td>\n",
       "      <td>1185.0</td>\n",
       "    </tr>\n",
       "    <tr>\n",
       "      <th>3</th>\n",
       "      <td>14.37</td>\n",
       "      <td>1.95</td>\n",
       "      <td>2.50</td>\n",
       "      <td>16.8</td>\n",
       "      <td>113.0</td>\n",
       "      <td>3.85</td>\n",
       "      <td>3.49</td>\n",
       "      <td>0.24</td>\n",
       "      <td>2.18</td>\n",
       "      <td>7.80</td>\n",
       "      <td>0.86</td>\n",
       "      <td>3.45</td>\n",
       "      <td>1480.0</td>\n",
       "    </tr>\n",
       "    <tr>\n",
       "      <th>4</th>\n",
       "      <td>13.24</td>\n",
       "      <td>2.59</td>\n",
       "      <td>2.87</td>\n",
       "      <td>21.0</td>\n",
       "      <td>118.0</td>\n",
       "      <td>2.80</td>\n",
       "      <td>2.69</td>\n",
       "      <td>0.39</td>\n",
       "      <td>1.82</td>\n",
       "      <td>4.32</td>\n",
       "      <td>1.04</td>\n",
       "      <td>2.93</td>\n",
       "      <td>735.0</td>\n",
       "    </tr>\n",
       "    <tr>\n",
       "      <th>5</th>\n",
       "      <td>14.20</td>\n",
       "      <td>1.76</td>\n",
       "      <td>2.45</td>\n",
       "      <td>15.2</td>\n",
       "      <td>112.0</td>\n",
       "      <td>3.27</td>\n",
       "      <td>3.39</td>\n",
       "      <td>0.34</td>\n",
       "      <td>1.97</td>\n",
       "      <td>6.75</td>\n",
       "      <td>1.05</td>\n",
       "      <td>2.85</td>\n",
       "      <td>1450.0</td>\n",
       "    </tr>\n",
       "    <tr>\n",
       "      <th>6</th>\n",
       "      <td>14.39</td>\n",
       "      <td>1.87</td>\n",
       "      <td>2.45</td>\n",
       "      <td>14.6</td>\n",
       "      <td>96.0</td>\n",
       "      <td>2.50</td>\n",
       "      <td>2.52</td>\n",
       "      <td>0.30</td>\n",
       "      <td>1.98</td>\n",
       "      <td>5.25</td>\n",
       "      <td>1.02</td>\n",
       "      <td>3.58</td>\n",
       "      <td>1290.0</td>\n",
       "    </tr>\n",
       "    <tr>\n",
       "      <th>7</th>\n",
       "      <td>14.06</td>\n",
       "      <td>2.15</td>\n",
       "      <td>2.61</td>\n",
       "      <td>17.6</td>\n",
       "      <td>121.0</td>\n",
       "      <td>2.60</td>\n",
       "      <td>2.51</td>\n",
       "      <td>0.31</td>\n",
       "      <td>1.25</td>\n",
       "      <td>5.05</td>\n",
       "      <td>1.06</td>\n",
       "      <td>3.58</td>\n",
       "      <td>1295.0</td>\n",
       "    </tr>\n",
       "    <tr>\n",
       "      <th>8</th>\n",
       "      <td>14.83</td>\n",
       "      <td>1.64</td>\n",
       "      <td>2.17</td>\n",
       "      <td>14.0</td>\n",
       "      <td>97.0</td>\n",
       "      <td>2.80</td>\n",
       "      <td>2.98</td>\n",
       "      <td>0.29</td>\n",
       "      <td>1.98</td>\n",
       "      <td>5.20</td>\n",
       "      <td>1.08</td>\n",
       "      <td>2.85</td>\n",
       "      <td>1045.0</td>\n",
       "    </tr>\n",
       "    <tr>\n",
       "      <th>9</th>\n",
       "      <td>13.86</td>\n",
       "      <td>1.35</td>\n",
       "      <td>2.27</td>\n",
       "      <td>16.0</td>\n",
       "      <td>98.0</td>\n",
       "      <td>2.98</td>\n",
       "      <td>3.15</td>\n",
       "      <td>0.22</td>\n",
       "      <td>1.85</td>\n",
       "      <td>7.22</td>\n",
       "      <td>1.01</td>\n",
       "      <td>3.55</td>\n",
       "      <td>1045.0</td>\n",
       "    </tr>\n",
       "  </tbody>\n",
       "</table>\n",
       "</div>"
      ],
      "text/plain": [
       "   alcohol  malic_acid   ash  alcalinity_of_ash  magnesium  total_phenols  \\\n",
       "0    14.23        1.71  2.43               15.6      127.0           2.80   \n",
       "1    13.20        1.78  2.14               11.2      100.0           2.65   \n",
       "2    13.16        2.36  2.67               18.6      101.0           2.80   \n",
       "3    14.37        1.95  2.50               16.8      113.0           3.85   \n",
       "4    13.24        2.59  2.87               21.0      118.0           2.80   \n",
       "5    14.20        1.76  2.45               15.2      112.0           3.27   \n",
       "6    14.39        1.87  2.45               14.6       96.0           2.50   \n",
       "7    14.06        2.15  2.61               17.6      121.0           2.60   \n",
       "8    14.83        1.64  2.17               14.0       97.0           2.80   \n",
       "9    13.86        1.35  2.27               16.0       98.0           2.98   \n",
       "\n",
       "   flavanoids  nonflavanoid_phenols  proanthocyanins  color_intensity   hue  \\\n",
       "0        3.06                  0.28             2.29             5.64  1.04   \n",
       "1        2.76                  0.26             1.28             4.38  1.05   \n",
       "2        3.24                  0.30             2.81             5.68  1.03   \n",
       "3        3.49                  0.24             2.18             7.80  0.86   \n",
       "4        2.69                  0.39             1.82             4.32  1.04   \n",
       "5        3.39                  0.34             1.97             6.75  1.05   \n",
       "6        2.52                  0.30             1.98             5.25  1.02   \n",
       "7        2.51                  0.31             1.25             5.05  1.06   \n",
       "8        2.98                  0.29             1.98             5.20  1.08   \n",
       "9        3.15                  0.22             1.85             7.22  1.01   \n",
       "\n",
       "   od280/od315_of_diluted_wines  proline  \n",
       "0                          3.92   1065.0  \n",
       "1                          3.40   1050.0  \n",
       "2                          3.17   1185.0  \n",
       "3                          3.45   1480.0  \n",
       "4                          2.93    735.0  \n",
       "5                          2.85   1450.0  \n",
       "6                          3.58   1290.0  \n",
       "7                          3.58   1295.0  \n",
       "8                          2.85   1045.0  \n",
       "9                          3.55   1045.0  "
      ]
     },
     "execution_count": 6,
     "metadata": {},
     "output_type": "execute_result"
    }
   ],
   "source": [
    "df = pd.DataFrame(wine_data, columns=feature_names)\n",
    "df.head(10)"
   ]
  },
  {
   "cell_type": "markdown",
   "metadata": {},
   "source": [
    "Perform the PCA transformation of the `wine_data` when no scaling is applied to the data and compute the eigenvectors and eigenvalues:\n",
    " - To do: \n",
    "     - obtain X0 (dataset without preproccessing)\n",
    "     - compute pca_0 : \n",
    "         - L0 = eigenvalues\n",
    "         - A0 = eigenvectors\n",
    "         - Z0 = PC scores"
   ]
  },
  {
   "cell_type": "code",
   "execution_count": 7,
   "metadata": {},
   "outputs": [],
   "source": [
    "#pca_0 = PCA(n_components=n_components)\n",
    "\n",
    "# X0 = ...\n",
    "\n",
    "# Complete the PCA steps..."
   ]
  },
  {
   "cell_type": "markdown",
   "metadata": {},
   "source": [
    "Visualize the two-dimensional PCA projection of the data set. Color the projection by the three classes as per `wine_target`:"
   ]
  },
  {
   "cell_type": "code",
   "execution_count": 8,
   "metadata": {},
   "outputs": [
    {
     "data": {
      "text/plain": [
       "<Figure size 720x360 with 0 Axes>"
      ]
     },
     "metadata": {},
     "output_type": "display_data"
    }
   ],
   "source": [
    "fig = plt.figure(figsize=(10,5))\n",
    "\n",
    "# Create a scatter plot of the projection\n",
    "#scat = plt.scatter( ... )\n",
    "#plt.colorbar(scat, ticks= # ... )\n",
    "#plt.xlabel( ... )\n",
    "#plt.ylabel( ... )\n",
    "#plt.show()"
   ]
  },
  {
   "cell_type": "markdown",
   "metadata": {},
   "source": [
    "## PCA with standard (auto) scaling"
   ]
  },
  {
   "cell_type": "markdown",
   "metadata": {},
   "source": [
    "Center and scale the data using standard (auto) scaling, according to the formula given at the top of the notebook.\n",
    "\n",
    "Hint: Python's `numpy` library allows you to subtract, add, multiply or divide each column of a data matrix simply by specifying a vector of values.\n",
    "\n",
    "For instance, if you want to access a mean value of each data **column**, you can write:\n",
    "\n",
    "```\n",
    "np.mean(X, axis=0)\n",
    "```\n",
    "\n",
    "If you want to access a mean value of each data **row**, you can write:\n",
    "\n",
    "```\n",
    "np.mean(X, axis=1)\n",
    "```\n",
    "\n",
    "Both `np.mean(X, axis=0)` and `np.mean(X, axis=1)` are vectors, not a matrices! The parameter `axis` controls along which axis of the data you want the value to be computed. \n",
    "\n",
    "In the cell below, remember to use the `axis` parameter correctly!\n",
    "\n",
    "\n",
    " - To do: \n",
    "     - obtain X_std (dataset preprocessed with mean and STD)\n",
    "     - inspect the first 10 rows of the wine data after scaling"
   ]
  },
  {
   "cell_type": "code",
   "execution_count": 9,
   "metadata": {},
   "outputs": [],
   "source": [
    "# X_std = \n",
    "\n",
    "# Inspect the scaled data set\n",
    "\n",
    "# ..."
   ]
  },
  {
   "cell_type": "markdown",
   "metadata": {},
   "source": [
    "Perform the PCA transformation of the `wine_data` when standard (auto) scaling is applied to the data and compute the new eigenvectors and eigenvalues:\n",
    "- To do: \n",
    "     - compute pca_std : \n",
    "         - L_std = eigenvalues\n",
    "         - A_std = eigenvectors\n",
    "         - Z_std = PC scores"
   ]
  },
  {
   "cell_type": "code",
   "execution_count": 10,
   "metadata": {},
   "outputs": [],
   "source": [
    "# pca_std = PCA(n_components=n_components)\n",
    "\n",
    "# Complete the PCA steps..."
   ]
  },
  {
   "cell_type": "markdown",
   "metadata": {},
   "source": [
    "Visualize the two-dimensional PCA projection of the data set. Color the projection by the three classes as per `wine_target`. What changes?"
   ]
  },
  {
   "cell_type": "code",
   "execution_count": 11,
   "metadata": {},
   "outputs": [
    {
     "data": {
      "text/plain": [
       "<Figure size 720x360 with 0 Axes>"
      ]
     },
     "metadata": {},
     "output_type": "display_data"
    }
   ],
   "source": [
    "fig = plt.figure(figsize=(10,5))\n",
    "\n",
    "# Create a scatter plot of the projection\n",
    "\n",
    "#scat = plt.scatter( ... )\n",
    "#plt.colorbar(scat, ticks= # ... )\n",
    "#plt.xlabel( ... )\n",
    "#plt.ylabel( ... )\n",
    "#plt.show()"
   ]
  },
  {
   "cell_type": "markdown",
   "metadata": {},
   "source": [
    "## PCA with VAST scaling"
   ]
  },
  {
   "cell_type": "markdown",
   "metadata": {},
   "source": [
    "Center and scale the data using VAST scaling, according to the formula given at the top of the notebook."
   ]
  },
  {
   "cell_type": "code",
   "execution_count": 12,
   "metadata": {},
   "outputs": [],
   "source": [
    "# X_vast = \n",
    "\n",
    "\n",
    "# Inspect the scaled data set\n",
    "\n",
    "# ..."
   ]
  },
  {
   "cell_type": "markdown",
   "metadata": {},
   "source": [
    "Perform the PCA transformation of the `wine_data` when VAST scaling is applied to the data and compute the new eigenvectors and eigenvalues:\n",
    "\n",
    "- To do: \n",
    "     - compute pca_vast : \n",
    "         - L_vast = eigenvalues\n",
    "         - A_vast = eigenvectors\n",
    "         - Z_vast = PC scores"
   ]
  },
  {
   "cell_type": "code",
   "execution_count": 13,
   "metadata": {},
   "outputs": [],
   "source": [
    "# pca_vast = PCA(n_components=n_components)\n",
    "\n",
    "# Complete the PCA steps..."
   ]
  },
  {
   "cell_type": "markdown",
   "metadata": {},
   "source": [
    "Visualize the two-dimensional PCA projection of the data set. Color the projection by the three classes as per `wine_target`. What changes?"
   ]
  },
  {
   "cell_type": "code",
   "execution_count": 14,
   "metadata": {},
   "outputs": [
    {
     "data": {
      "text/plain": [
       "<Figure size 720x360 with 0 Axes>"
      ]
     },
     "metadata": {},
     "output_type": "display_data"
    }
   ],
   "source": [
    "fig = plt.figure(figsize=(10,5))\n",
    "\n",
    "# Create a scatter plot of the projection\n",
    "#scat = plt.scatter( ... )\n",
    "#plt.colorbar(scat, ticks= # ... )\n",
    "#plt.xlabel( ... )\n",
    "#plt.ylabel( ... )\n",
    "#plt.show()"
   ]
  },
  {
   "cell_type": "markdown",
   "metadata": {},
   "source": [
    "## Compare the eigenvectors\n",
    "\n",
    "Now, we are going to visualize the eigenvectors resulting from no scaling, standard (auto) scaling and VAST scaling.\n",
    "\n",
    "We are going to use the `pyplot`'s `bar` function which helps us generate bar plots. You can use this template to plot the eigenvectors:\n",
    "\n",
    "```\n",
    "plt.bar(x_ticks, height, width=bar_width, color='k', label='Scaling')\n",
    "```\n",
    "\n",
    "Where `x_ticks` specifies the locations on the x-axis where the bars will be plotted, and `height` specifies the height for each bar.\n",
    "\n",
    "Also plot the legend that explains which eigenvector result from which data scaling option."
   ]
  },
  {
   "cell_type": "code",
   "execution_count": 15,
   "metadata": {},
   "outputs": [],
   "source": [
    "# The x_ticks parameter will help you label the x-axis:\n",
    "x_ticks = np.array([i for i in range(0,n_features)])\n",
    "\n",
    "# The bar_width parameter controls the width of each bar on the bar plot:\n",
    "bar_width = 0.2\n",
    "\n",
    "# Since we are going to compute three bar plots on one plot, we will offset the bar plots so that they are easier to visualize:\n",
    "offset = 0.2"
   ]
  },
  {
   "cell_type": "markdown",
   "metadata": {},
   "source": [
    " - To do:\n",
    "     - Plot the comparison of the **first** eigenvector from the three data scaling options:"
   ]
  },
  {
   "cell_type": "code",
   "execution_count": 16,
   "metadata": {},
   "outputs": [
    {
     "data": {
      "text/plain": [
       "<Figure size 720x216 with 0 Axes>"
      ]
     },
     "metadata": {},
     "output_type": "display_data"
    }
   ],
   "source": [
    "fig = plt.figure(figsize=(10,3))\n",
    "\n",
    "# Create a bar plot for no scaling\n",
    "# Create a bar plot for standard (auto) scaling\n",
    "# Create a bar plot for VAST scaling\n",
    "\n",
    "# plt.xticks(x_ticks, wine_names, rotation=90)\n",
    "# plt.ylabel('First eigenvector weights')\n",
    "# plt.grid(alpha=0.2)\n",
    "# plt.legend()\n",
    "# plt.show()"
   ]
  },
  {
   "cell_type": "markdown",
   "metadata": {},
   "source": [
    " - To do:\n",
    "     - Plot the comparison of the **second** eigenvector from the three data scaling options:"
   ]
  },
  {
   "cell_type": "code",
   "execution_count": 17,
   "metadata": {},
   "outputs": [
    {
     "data": {
      "text/plain": [
       "<Figure size 720x216 with 0 Axes>"
      ]
     },
     "metadata": {},
     "output_type": "display_data"
    }
   ],
   "source": [
    "fig = plt.figure(figsize=(10,3))\n",
    "\n",
    "# Create a bar plot for no scaling\n",
    "# Create a bar plot for standard (auto) scaling\n",
    "# Create a bar plot for VAST scaling\n",
    "\n",
    "# plt.xticks(x_ticks, wine_names, rotation=90)\n",
    "# plt.ylabel('Second eigenvector weights')\n",
    "# plt.grid(alpha=0.2)\n",
    "# plt.legend()"
   ]
  },
  {
   "cell_type": "markdown",
   "metadata": {},
   "source": [
    "## Compare the eigenvalues\n",
    "\n",
    "Finally, we are going to visualize the scree plot of eigenvalues resulting from no scaling, standard (auto) scaling and VAST scaling.\n",
    "\n",
    "Remember to also plot the legend that explains which eigenvalues result from which data scaling option.\n",
    "\n",
    "What differences do you observe?"
   ]
  },
  {
   "cell_type": "code",
   "execution_count": 18,
   "metadata": {},
   "outputs": [
    {
     "data": {
      "text/plain": [
       "<Figure size 720x216 with 0 Axes>"
      ]
     },
     "metadata": {},
     "output_type": "display_data"
    }
   ],
   "source": [
    "fig = plt.figure(figsize=(10,3))\n",
    "\n",
    "# Create a line plot for no scaling\n",
    "# Create a line plot for standard (auto) scaling\n",
    "# Create a line plot for VAST scaling\n",
    "\n",
    "# plt.xticks(x_ticks+1)\n",
    "# plt.xlabel('Number of components')\n",
    "# plt.ylabel('Eigenvalue')\n",
    "# plt.legend()\n",
    "# plt.show()"
   ]
  },
  {
   "cell_type": "markdown",
   "metadata": {},
   "source": [
    "Final tip: if you'd like to save the plots that you produced, you can add the following command after plotting:\n",
    "\n",
    "```\n",
    "plt.savefig('figure.png', dpi=200, bbox_inches='tight')\n",
    "```\n",
    "\n",
    "You can also control the file extension, e.g. you can save the plot to `.pdf` format instead of `.png`:\n",
    "\n",
    "```\n",
    "plt.savefig('figure.pdf', dpi=200, bbox_inches='tight')\n",
    "```"
   ]
  },
  {
   "cell_type": "markdown",
   "metadata": {},
   "source": [
    "***"
   ]
  }
 ],
 "metadata": {
  "kernelspec": {
   "display_name": "env_ml2",
   "language": "python",
   "name": "python3"
  },
  "language_info": {
   "codemirror_mode": {
    "name": "ipython",
    "version": 3
   },
   "file_extension": ".py",
   "mimetype": "text/x-python",
   "name": "python",
   "nbconvert_exporter": "python",
   "pygments_lexer": "ipython3",
   "version": "3.9.16"
  }
 },
 "nbformat": 4,
 "nbformat_minor": 4
}
