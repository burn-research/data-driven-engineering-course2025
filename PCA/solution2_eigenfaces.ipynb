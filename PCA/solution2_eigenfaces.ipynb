{
 "cells": [
  {
   "cell_type": "markdown",
   "id": "9d6faa05",
   "metadata": {},
   "source": [
    "# 2 Session : POD\n",
    "\n",
    "## Exercise 1: Face images\n",
    "\n",
    "The goal of the exercise is to perform POD on a dataset containing face images\n",
    "The dataset contains 400 64x64 images of human faces.\n",
    "How can POD help in reconstructing faces?"
   ]
  },
  {
   "cell_type": "markdown",
   "id": "bb0476ae",
   "metadata": {},
   "source": [
    "In the first cell we import the libraries that we are going to use and the face dataset."
   ]
  },
  {
   "cell_type": "code",
   "execution_count": null,
   "id": "1d3a35b9",
   "metadata": {},
   "outputs": [],
   "source": [
    "import numpy as np\n",
    "import matplotlib.pyplot as plt\n",
    "from sklearn.datasets import fetch_olivetti_faces\n",
    "\n",
    "face_images = fetch_olivetti_faces().images\n",
    "print(face_images.shape) #check the dimensions\n"
   ]
  },
  {
   "cell_type": "markdown",
   "id": "ef04079a",
   "metadata": {},
   "source": [
    "We can also plot same faces."
   ]
  },
  {
   "cell_type": "code",
   "execution_count": null,
   "id": "65dbbf22",
   "metadata": {},
   "outputs": [],
   "source": [
    "# select the index of the face to show\n",
    "index = 0\n",
    "\n",
    "# select the image and reshape it to show it\n",
    "face = face_images[index]\n",
    "plt.title(f'Face number = {index}')\n",
    "plt.imshow(face, cmap='grey')\n",
    "plt.xticks(np.linspace(0, 63, 8))\n",
    "plt.yticks(np.linspace(0, 63, 8))\n",
    "\n",
    "plt.show()"
   ]
  },
  {
   "cell_type": "markdown",
   "id": "4925f030",
   "metadata": {},
   "source": [
    " - For convenience, please define the number of images of faces as **Nfaces** and the number of pixeles as **Npix**\n",
    "\n",
    " - To be able to apply POD, we need a matrix. \n",
    "     Please reshape the tensor face_images as a matrix (it will be our \"X\") and call it **face_X**"
   ]
  },
  {
   "cell_type": "code",
   "execution_count": null,
   "id": "d6a725f1",
   "metadata": {},
   "outputs": [],
   "source": [
    "Nfaces  = face_images.shape[0]\n",
    "Npix1   = face_images.shape[1]\n",
    "Npix    = face_images.shape[1]*face_images.shape[2]\n",
    "\n",
    "print(f'Nfaces = {Nfaces}')\n",
    "print(f'Npix   = {Npix}')\n",
    "\n",
    "face_X = np.reshape(face_images, (Nfaces, Npix)).T\n",
    "print(face_X.shape)"
   ]
  },
  {
   "cell_type": "markdown",
   "id": "9622e44f",
   "metadata": {},
   "source": [
    "##  Implement POD\n",
    "Now, we write a function to **implement the POD algorithm**. Conventionally, the mean is removed from the dataset before applying POD. If this is not done, the mean will be the first PC."
   ]
  },
  {
   "cell_type": "markdown",
   "id": "999f7229",
   "metadata": {},
   "source": [
    " - HINT to define POD:\n",
    "     1. center the matrix X\n",
    "     2. compute the covariance matrix K = X0.T @ X0\n",
    "     3. compute the eigendecomposition using np.linalg.eig\n",
    "     4. sort the eigenvalues using np.sort and np.argsort\n",
    "     5. compute the POD modes Z = X0 @ Psi\n",
    "     6. normalize the POD modes phi[i] = z[i]/np.linalg.norm(z[i])"
   ]
  },
  {
   "cell_type": "code",
   "execution_count": null,
   "id": "ced340c1",
   "metadata": {},
   "outputs": [],
   "source": [
    "# define the POD function\n",
    "\n",
    "def POD(X):\n",
    "    X0 = X - np.mean(X, axis=1)[:, np.newaxis] # remove the mean from the dataset\n",
    "    K = X0.T @ X0 # compute the covariance matrix\n",
    "    l, Psi = np.linalg.eig(K) # compute the eigenvalue decomposition\n",
    "    i_sort = np.argsort(l)[::-1] # sort the eigenvalues in descending order\n",
    "    l = l[i_sort]\n",
    "    Psi = Psi[:,i_sort]\n",
    "    Z = X0 @ Psi  # Compute the PC scores\n",
    "    \n",
    "    Phi = np.zeros_like(Z)\n",
    "    for i in range(Phi.shape[1]):\n",
    "        Phi[:, i] = Z[:, i]/np.linalg.norm(Z[:, i])\n",
    "\n",
    "    return Psi, Phi, l\n",
    "\n",
    "# Uncomment when you have defined the function POD\n",
    "Psi, Phi, l = POD(face_X)"
   ]
  },
  {
   "cell_type": "code",
   "execution_count": null,
   "id": "ed09a48f",
   "metadata": {},
   "outputs": [],
   "source": [
    "fig, ax = plt.subplots(figsize=(4,4))\n",
    "ax.scatter(np.linspace(1, Nfaces, Nfaces), l)\n",
    "ax.set_title('POD eigenvalues')\n",
    "plt.xlim([0, Nfaces])\n",
    "plt.xlabel('PC number')\n",
    "plt.ylabel('Eigenvalues')\n",
    "plt.show()\n"
   ]
  },
  {
   "cell_type": "markdown",
   "id": "339237db",
   "metadata": {},
   "source": [
    "##  Compute POD using the SVD \n",
    "Now, we can perform POD using the SVD and compute the explained variance as a function of the modes."
   ]
  },
  {
   "cell_type": "code",
   "execution_count": null,
   "id": "de7dbe02",
   "metadata": {},
   "outputs": [],
   "source": [
    "mean = np.mean(face_X, axis=1)[:, np.newaxis]\n",
    "X0 = face_X - mean\n",
    "Phi, sigma, Psi_t = np.linalg.svd(X0, full_matrices=False)\n",
    "l = sigma**2\n",
    "\n",
    "explained_variance_ratio = l/np.sum(l)*100\n",
    "\n",
    "fig, axs = plt.subplots(1,2, figsize=(8,4))\n",
    "axs[0].scatter(np.linspace(1, Nfaces, Nfaces), explained_variance_ratio)\n",
    "axs[0].set_title('explained variance')\n",
    "axs[1].plot(np.cumsum(explained_variance_ratio))\n",
    "axs[1].set_title('cumulative explained variance')\n",
    "plt.show()\n"
   ]
  },
  {
   "cell_type": "markdown",
   "id": "3a185b6c",
   "metadata": {},
   "source": [
    " ##### Show the first eigenfaces.\n",
    " \n",
    "- Plot the first n=5 eigenfaces."
   ]
  },
  {
   "cell_type": "code",
   "execution_count": null,
   "id": "c208dcb4",
   "metadata": {},
   "outputs": [],
   "source": [
    "# We can plot the first 5 PCs \n",
    "n = 5\n",
    "fig, axs = plt.subplots(1, n, figsize=(3*n, 3))\n",
    "for i, ax in enumerate(axs):\n",
    "    ax.imshow(Phi[:, i].reshape(Npix1, Npix1), cmap='grey')\n",
    "    ax.set_title('Mode ' + str(i+1))\n"
   ]
  },
  {
   "cell_type": "markdown",
   "id": "bb0f918a",
   "metadata": {},
   "source": [
    "##### Test POD as a reduced-order model (ROM)\n",
    "We can also check if we can use POD to achieve dimensionality reduction. This means that we can reconstructed the faces using few modes.\n",
    "\n",
    "- To do:\n",
    "    1. reconstruct the face number 10 using the first 10 modes, and compare it to the original\n",
    "    2. reconstruct the same face with 1,5, 10, 100, 200 and 400 modes. Compare the solution\n",
    "    \n",
    "    \n",
    "- #hint: X_reconstructed = mean + Phi_q Aq.T \n",
    "- #hint: Aq.T = Sigma_q @ Psi_q.T"
   ]
  },
  {
   "cell_type": "code",
   "execution_count": null,
   "id": "d25452f5",
   "metadata": {},
   "outputs": [],
   "source": [
    "At = np.diag(sigma) @ Psi_t\n",
    "A = At.T\n",
    "\n",
    "index= 10\n",
    "face_orig = face_X[:, index] # original face\n",
    "\n",
    "fig1, ax = plt.subplots(figsize=(2, 2))\n",
    "ax.imshow(face_orig.reshape(Npix1,Npix1), cmap='grey')\n",
    "ax.set_title('original')\n",
    "plt.show()\n",
    "\n",
    "qs = [1, 5, 10, 100 , 200, 400]\n",
    "Nq = len(qs)\n",
    "\n",
    "# We can plot them side by side \n",
    "fig2, axs = plt.subplots(1,Nq, figsize=(3*Nq, 3)); \n",
    "\n",
    "for iq in range(0, Nq):  \n",
    "    q=qs[iq]\n",
    "    qperc = q/Nfaces *100\n",
    "    face_rec = mean.flatten() + Phi[:, :q] @ A[index,:q].T        # reconstructed face\n",
    "    \n",
    "    axs[iq].imshow(face_rec.reshape(Npix1,Npix1), cmap='grey')\n",
    "    axs[iq].set_title( str(q) + ' PCs (' + str(qperc) + '%)')\n",
    "    \n",
    "plt.show()"
   ]
  },
  {
   "cell_type": "markdown",
   "id": "1c34f4c4",
   "metadata": {},
   "source": [
    "#### Canonical basis vs modes\n",
    "Explain what is the difference between using the canonical basis and the modes to express the images, and why we can reduce the dimensionality with POD and not with the canonical basis. "
   ]
  },
  {
   "cell_type": "markdown",
   "id": "bb7adf74",
   "metadata": {},
   "source": [
    "##### - Canonical basis\n",
    "How does this work? In the canonical basis, the image is the sum of some weights multiplied by the canonical basis:\n",
    "\\begin{equation}\n",
    "    \\mathbf{x} = \\sum_{i=1}^{m} w_i \\mathbf{b}_i\n",
    "\\end{equation}\n",
    "\n",
    "- To do: \n",
    " 1. Define the canonical basis $\\mathbf{B}=[\\mathbf{b}_1, \\cdots \\mathbf{b}_m]$\n",
    " 2. Obtain the weights $w_i$ of the first 4 directions (n_basis=4)  $\\mathbf{W}=[\\mathbf{w}_1, \\cdots \\mathbf{w}_m]$\n",
    " 3. Show how the first 4 basis vectors look like ($b_i$)"
   ]
  },
  {
   "cell_type": "code",
   "execution_count": null,
   "id": "ba41e331",
   "metadata": {},
   "outputs": [],
   "source": [
    "index = 10\n",
    "face = face_X[:, index] \n",
    "\n",
    "B = np.eye(Npix) # The canonical basis is just the identity matrix\n",
    "n_basis = 4\n",
    "\n",
    "## What are the weights? --> wi --> face_X[index,i]\n",
    "w = face_X[:n_basis, index]\n",
    "\n",
    "# Plotting function\n",
    "fig, axs = plt.subplots(1, (n_basis+1), figsize=((n_basis+1)*3, 3))\n",
    "fig.set_facecolor('white')\n",
    "axs[0].imshow(face.reshape(Npix1,Npix1), cmap='grey')\n",
    "axs[0].set_xticks([])\n",
    "axs[0].set_yticks([])\n",
    "\n",
    "for i in range(n_basis):\n",
    "    axs[i+1].imshow(B[:, i].reshape(Npix1,Npix1), cmap='Greys')\n",
    "    axs[i+1].yaxis.set_label_coords(-0.2,0.5)\n",
    "    axs[i+1].set_xticks([])\n",
    "    axs[i+1].set_yticks([])\n",
    "    if i == 0:\n",
    "        axs[i+1].set_ylabel('= {:.3f} $\\cdot$'.format(w[i]), rotation=0, fontsize=14)\n",
    "    else:\n",
    "        axs[i+1].set_ylabel('+ {:.3f} $\\cdot$'.format(w[i]), rotation=0, fontsize=14)\n",
    "\n",
    "fig.subplots_adjust(left=0, right=1, bottom=0., top=1, wspace=0.4)\n",
    "plt.show()"
   ]
  },
  {
   "cell_type": "markdown",
   "id": "6f681255",
   "metadata": {},
   "source": [
    "##    4. Plot original face VS reconstruction with 100 Modes\n",
    "    \n",
    "Obviously, we cannot truncate the canonical basis without loosing important information."
   ]
  },
  {
   "cell_type": "code",
   "execution_count": null,
   "id": "c374443e",
   "metadata": {},
   "outputs": [],
   "source": [
    "q = 100    # number of modes to use\n",
    "index = 10 # the index of the face that we want to reconstruct \n",
    "\n",
    "face_orig = face_X[:, index]                     # original face\n",
    "face_rec  = face_X[:q, index] @ B[:,:q].T        # reconstructed face\n",
    "\n",
    "# We can plot them side by side \n",
    "fig, axs = plt.subplots(1,2, figsize=(6, 3))\n",
    "axs[0].imshow(face_orig.reshape(Npix1,Npix1), cmap='grey')\n",
    "axs[0].set_title('original')\n",
    "axs[1].imshow(face_rec.reshape(Npix1,Npix1), cmap='grey')\n",
    "axs[1].set_title('reconstructed with ' + str(q) + ' PCs')\n",
    "plt.show()"
   ]
  },
  {
   "cell_type": "markdown",
   "id": "ce360830",
   "metadata": {},
   "source": [
    "#### - POD basis\n",
    "How does this work? In the POD basis, the image is the sum of some weights multiplied by the POD basis:\n",
    "\\begin{equation}\n",
    "    \\mathbf{x} = \\mu(x) + \\sum_{i=1}^{m} a_i \\boldsymbol{\\phi}_i\n",
    "\\end{equation}\n",
    "\n",
    "- To do: \n",
    " 1. POD basis already defined: $\\boldsymbol{\\Phi}=[\\boldsymbol{\\phi}_1, \\cdots \\boldsymbol{\\phi}_m]$\n",
    " 2. POD coefficients already known too: $\\mathbf{A}=[\\mathbf{a}_1, \\cdots \\mathbf{a}_m]$ \n",
    " 3. Show how the first 4 basis vectors look like."
   ]
  },
  {
   "cell_type": "code",
   "execution_count": null,
   "id": "6ba9dc3d",
   "metadata": {},
   "outputs": [],
   "source": [
    "index = 10\n",
    "face  = face_X[:, index]\n",
    "\n",
    "a = A[index, :]\n",
    "\n",
    "fig, axs = plt.subplots(1, (n_basis+1), figsize = ((n_basis+1)*3,3) )\n",
    "\n",
    "# plot first original face\n",
    "\n",
    "axs[0].imshow(face.reshape(Npix1,Npix1), cmap = 'grey')\n",
    "axs[0].set_xticks([])\n",
    "axs[0].set_yticks([])\n",
    "\n",
    "# plot b1\n",
    "for i in range(n_basis):\n",
    "    axs[i+1].imshow(Phi[:,i].reshape(Npix1,Npix1), cmap = 'grey')\n",
    "    axs[i+1].yaxis.set_label_coords(-0.3,0.5)\n",
    "    axs[i+1].set_xticks([])\n",
    "    axs[i+1].set_yticks([])\n",
    "    \n",
    "    if i == 0:\n",
    "        axs[i+1].set_ylabel('= {:.3f} $\\cdots$'.format(a[i]),rotation= 0, fontsize=14)\n",
    "    else:\n",
    "        axs[i+1].set_ylabel('+ {:.3f} $\\cdots$'.format(a[i]),rotation= 0, fontsize=14)\n",
    "\n",
    "fig.subplots_adjust(left=0, right=1, bottom=0., top=1, wspace=0.6)      \n",
    "plt.show()\n"
   ]
  }
 ],
 "metadata": {
  "kernelspec": {
   "display_name": "env_ml2",
   "language": "python",
   "name": "python3"
  },
  "language_info": {
   "codemirror_mode": {
    "name": "ipython",
    "version": 3
   },
   "file_extension": ".py",
   "mimetype": "text/x-python",
   "name": "python",
   "nbconvert_exporter": "python",
   "pygments_lexer": "ipython3",
   "version": "3.9.16"
  }
 },
 "nbformat": 4,
 "nbformat_minor": 5
}
