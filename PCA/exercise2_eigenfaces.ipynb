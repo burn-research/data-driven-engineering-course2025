{
 "cells": [
  {
   "cell_type": "markdown",
   "id": "9d6faa05",
   "metadata": {},
   "source": [
    "# 2 Session : POD\n",
    "\n",
    "## Exercise 1: Face images\n",
    "\n",
    "The goal of the exercise is to perform POD on a dataset containing face images\n",
    "The dataset contains 400 64x64 images of human faces.\n",
    "How can POD help in reconstructing faces?"
   ]
  },
  {
   "cell_type": "markdown",
   "id": "bb0476ae",
   "metadata": {},
   "source": [
    "In the first cell we import the libraries that we are going to use and the face dataset."
   ]
  },
  {
   "cell_type": "code",
   "execution_count": null,
   "id": "1d3a35b9",
   "metadata": {},
   "outputs": [],
   "source": [
    "import numpy as np\n",
    "import matplotlib.pyplot as plt\n",
    "from sklearn.datasets import fetch_olivetti_faces\n",
    "\n",
    "face_images= fetch_olivetti_faces().images\n",
    "print(face_images.shape) #check the dimensions"
   ]
  },
  {
   "cell_type": "markdown",
   "id": "ef04079a",
   "metadata": {},
   "source": [
    "We can also plot same faces."
   ]
  },
  {
   "cell_type": "code",
   "execution_count": null,
   "id": "65dbbf22",
   "metadata": {},
   "outputs": [],
   "source": [
    "# select the index of the face to show\n",
    "index = 0\n",
    "\n",
    "# select the image and reshape it to show it\n",
    "face = face_images[index,:]\n",
    "plt.title(f'Face number = {index}')\n",
    "plt.imshow(face, cmap='grey')\n",
    "plt.xticks(np.linspace(0, 63, 8))\n",
    "plt.yticks(np.linspace(0, 63, 8))\n",
    "\n",
    "plt.show()"
   ]
  },
  {
   "cell_type": "markdown",
   "id": "d9f8075d",
   "metadata": {},
   "source": [
    " - For convenience, please define the number of images of faces as **Nfaces** and the number of pixeles as **Npix**\n",
    "\n",
    " - To be able to apply POD, we need a matrix. \n",
    "     Please reshape the tensor face_images as a matrix (it will be our \"X\") and call it **face_X**"
   ]
  },
  {
   "cell_type": "code",
   "execution_count": null,
   "id": "5f2ff90b",
   "metadata": {},
   "outputs": [],
   "source": [
    "#Nfaces  = ...\n",
    "#Npix    = ... \n",
    "#print(f'Nfaces = {Nfaces}')\n",
    "#print(f'Npix   = {Npix}')\n",
    "\n",
    "# face_X = face_images.reshape(  ... \n",
    "# print(face_X.shape)"
   ]
  },
  {
   "cell_type": "markdown",
   "id": "9622e44f",
   "metadata": {},
   "source": [
    "##  Implement POD\n",
    "Now, we write a function to **implement the POD algorithm**. Conventionally, the mean is removed from the dataset before applying POD. If this is not done, the mean will be the first PC."
   ]
  },
  {
   "cell_type": "markdown",
   "id": "ced7b3ea",
   "metadata": {},
   "source": [
    " - HINT to define POD:\n",
    "     1. center the matrix X\n",
    "     2. compute the covariance matrix K = X0.T @ X0\n",
    "     3. compute the eigendecomposition using np.linalg.eig\n",
    "     4. sort the eigenvalues using np.sort and np.argsort\n",
    "     5. compute the POD modes Z = X0 @ Psi\n",
    "     6. normalize the POD modes phi[i] = z[i]/np.linalg.norm(z[i])"
   ]
  },
  {
   "cell_type": "code",
   "execution_count": null,
   "id": "ced340c1",
   "metadata": {},
   "outputs": [],
   "source": [
    "# define the POD function\n",
    "\n",
    "# ...\n",
    "# ...\n",
    "\n",
    "# Uncomment when you have defined the function POD\n",
    "# Psi, Phi, l = POD(face_X)"
   ]
  },
  {
   "cell_type": "code",
   "execution_count": null,
   "id": "ed09a48f",
   "metadata": {},
   "outputs": [],
   "source": [
    "# Uncomment when you have perfomed POD\n",
    "\n",
    "#fig, ax = plt.subplots(figsize=(4,4))\n",
    "#ax.scatter(np.linspace(1,Npix**2, Npix**2), l)\n",
    "#ax.set_title('POD eigenvalues')\n",
    "#plt.xlim([0,Npix**2])\n",
    "#plt.xlabel('Mode number')\n",
    "#plt.ylabel('Eigenvalues')\n",
    "#plt.show()"
   ]
  },
  {
   "cell_type": "markdown",
   "id": "339237db",
   "metadata": {},
   "source": [
    "##  Compute POD using the SVD \n",
    "Now, we can perform POD using the SVD and compute the explained variance as a function of the modes."
   ]
  },
  {
   "cell_type": "code",
   "execution_count": null,
   "id": "de7dbe02",
   "metadata": {},
   "outputs": [],
   "source": [
    "# Use the np.linalg.svd function\n"
   ]
  },
  {
   "cell_type": "markdown",
   "id": "3a185b6c",
   "metadata": {},
   "source": [
    " ##### Show the first eigenfaces.\n",
    " \n",
    "- Plot the first n=5 eigenfaces."
   ]
  },
  {
   "cell_type": "code",
   "execution_count": null,
   "id": "c208dcb4",
   "metadata": {},
   "outputs": [],
   "source": [
    "## uncomment this lines to show the eigenfaces:\n",
    "## We can plot the first 5 modes \n",
    "# n = 5\n",
    "# fig, axs = plt.subplots(1, n, figsize=(3*n, 3))\n",
    "# for i, ax in enumerate(axs):\n",
    "#     ax.imshow(Phi[:, i].reshape(Npix1, Npix1), cmap='grey')\n",
    "#     ax.set_title('Mode ' + str(i+1))\n"
   ]
  },
  {
   "cell_type": "markdown",
   "id": "bb0f918a",
   "metadata": {},
   "source": [
    "##### Test POD as a reduced-order model (ROM)\n",
    "We can also check if we can use POD to achieve dimensionality reduction. This means that we can reconstructed the faces using few modes.\n",
    "\n",
    "- To do:\n",
    "    1. reconstruct the face number 10 using the first 10 modes, and compare it to the original\n",
    "    2. reconstruct the same face with 1,5, 10, 100, 200 and 400 modes. Compare the solution\n",
    "    \n",
    "    \n",
    "- #hint: X_reconstructed = mean + Phi_q Aq.T \n",
    "- #hint: Aq.T = Sigma_q @ Psi_q.T"
   ]
  },
  {
   "cell_type": "code",
   "execution_count": null,
   "id": "d25452f5",
   "metadata": {},
   "outputs": [],
   "source": []
  },
  {
   "cell_type": "markdown",
   "id": "6f681255",
   "metadata": {},
   "source": [
    "#### Canonical basis vs PCs\n",
    "Explain what is the difference between using the canonical basis and the mdoes to express the images, and why we can reduce the dimensionality with POD and not with the canonical basis. "
   ]
  },
  {
   "cell_type": "markdown",
   "id": "675e6faf",
   "metadata": {},
   "source": [
    "##### - Canonical basis\n",
    "How does this work? In the canonical basis, the image is the sum of some weights multiplied by the canonical basis:\n",
    "\\begin{equation}\n",
    "    \\mathbf{x} = \\sum_{i=1}^{m} w_i \\mathbf{b}_i\n",
    "\\end{equation}\n",
    "\n",
    "- To do: \n",
    " 1. Define the canonical basis $\\mathbf{B}=[\\mathbf{b}_1, \\cdots \\mathbf{b}_m]$\n",
    " 2. Obtain the weights $w_i$ of the first 4 directions (n_basis=4)  $\\mathbf{W}=[\\mathbf{w}_1, \\cdots \\mathbf{w}_m]$\n",
    " 3. Show how the first 4 basis vectors look like ($b_i$)"
   ]
  },
  {
   "cell_type": "code",
   "execution_count": null,
   "id": "c374443e",
   "metadata": {},
   "outputs": [],
   "source": [
    "## index = ...\n",
    "## face  = ...\n",
    "\n",
    "## What are the weights?\n"
   ]
  },
  {
   "cell_type": "markdown",
   "id": "9f167750",
   "metadata": {},
   "source": [
    "##    4. Plot original face VS reconstruction with 100 modes"
   ]
  },
  {
   "cell_type": "code",
   "execution_count": null,
   "id": "b94e77c5",
   "metadata": {},
   "outputs": [],
   "source": [
    "## q= 100\n",
    "## index  = 10\n",
    "\n",
    "## face_orig = \n",
    "## face_rec = \n",
    "\n",
    "## Plot them side by side\n"
   ]
  },
  {
   "cell_type": "markdown",
   "id": "1212c819",
   "metadata": {},
   "source": [
    "#### - POD basis\n",
    "How does this work? In the POD basis, the image is the sum of some weights multiplied by the POD basis:\n",
    "\\begin{equation}\n",
    "    \\mathbf{x} = \\mu(x) + \\sum_{i=1}^{m} a_i \\boldsymbol{\\phi}_i\n",
    "\\end{equation}\n",
    "\n",
    "- To do: \n",
    " 1. POD basis already defined: $\\boldsymbol{\\Phi}=[\\boldsymbol{\\phi}_1, \\cdots \\boldsymbol{\\phi}_m]$\n",
    " 2. POD coefficients already known too: $\\mathbf{A}=[\\mathbf{a}_1, \\cdots \\mathbf{a}_m]$ \n",
    " 3. Show how the first 4 basis vectors look like."
   ]
  },
  {
   "cell_type": "code",
   "execution_count": null,
   "id": "7aca9a70",
   "metadata": {},
   "outputs": [],
   "source": [
    "## index = ...\n",
    "## face  = ...\n",
    "\n",
    "## What are the weights?\n",
    "\n",
    "## plot of the first 4 basis vectors a_i\n"
   ]
  }
 ],
 "metadata": {
  "kernelspec": {
   "display_name": "env_ml2",
   "language": "python",
   "name": "python3"
  },
  "language_info": {
   "codemirror_mode": {
    "name": "ipython",
    "version": 3
   },
   "file_extension": ".py",
   "mimetype": "text/x-python",
   "name": "python",
   "nbconvert_exporter": "python",
   "pygments_lexer": "ipython3",
   "version": "3.9.16"
  }
 },
 "nbformat": 4,
 "nbformat_minor": 5
}
