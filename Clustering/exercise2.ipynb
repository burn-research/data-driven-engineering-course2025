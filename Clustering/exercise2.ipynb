{
  "cells": [
    {
      "cell_type": "markdown",
      "metadata": {
        "id": "s3AUyitRhCBB"
      },
      "source": [
        "# Exercises on data clustering and local PCA\n",
        "\n",
        "## Exercise Extra:\n",
        "\n",
        "The goal of this exercise is to explore K-Means and VQPCA clustering of a combustion dataset.\n",
        "\n",
        "***"
      ]
    },
    {
      "cell_type": "code",
      "execution_count": null,
      "metadata": {
        "id": "LCZMj41-hCBC"
      },
      "outputs": [],
      "source": [
        "import numpy as np\n",
        "import matplotlib.pyplot as plt\n",
        "import pandas as pd\n",
        "from sklearn.cluster import KMeans\n",
        "from sklearn.decomposition import PCA\n",
        "\n",
        "%matplotlib inline"
      ]
    },
    {
      "cell_type": "markdown",
      "metadata": {
        "id": "0d-XMMTphCBD"
      },
      "source": [
        "In this exercise, we use a combustion dataset which represents combustion of hydrogen in air.\n",
        "\n",
        "Below, we load the dataset, $\\mathbf{X}$, composed of 9 variables (columns):\n",
        "\n",
        "$$\n",
        "\\begin{gather}\n",
        "\\mathbf{X} =\n",
        "\\begin{bmatrix}\n",
        "\\vdots & \\vdots & \\vdots & \\vdots & \\vdots & \\vdots & \\vdots & \\vdots & \\vdots \\\\\n",
        "T & Y_{H} & Y_{H_2} & Y_{O} & Y_{OH} & Y_{H_2O} & Y_{O_2} & Y_{HO_2} & Y_{H_2O_2} \\\\\n",
        "\\vdots & \\vdots & \\vdots & \\vdots & \\vdots & \\vdots & \\vdots & \\vdots & \\vdots \\\\\n",
        "\\end{bmatrix}\n",
        "\\end{gather}\n",
        "$$\n",
        "\n",
        "The first variable in the dataset is temperature, $T$, and the remaining variables are mass fractions, $Y$, of different chemical species.\n",
        "\n",
        "The dataset has 13,650 observations (rows)."
      ]
    },
    {
      "cell_type": "code",
      "execution_count": null,
      "metadata": {
        "id": "1rWnqQ8KhCBD"
      },
      "outputs": [],
      "source": [
        "url_X = (r'https://raw.githubusercontent.com/burn-research/data-driven-engineering-course2025/main/Clustering/H2-air-X.csv')\n",
        "url_X_names = (r'https://raw.githubusercontent.com/burn-research/data-driven-engineering-course2025/main/Clustering/H2-air-X-names.csv')\n",
        "url_X_mf = (r'https://raw.githubusercontent.com/burn-research/data-driven-engineering-course2025/main/Clustering/H2-air-mixture-fraction.csv')\n",
        "url_X_hrr = (r'https://raw.githubusercontent.com/burn-research/data-driven-engineering-course2025/main/Clustering/H2-air-heat-release-rate.csv')\n",
        "\n",
        "X = pd.read_csv(url_X, sep = ',', header=None).to_numpy()\n",
        "X = X[:,0:-3]"
      ]
    },
    {
      "cell_type": "code",
      "execution_count": null,
      "metadata": {
        "colab": {
          "base_uri": "https://localhost:8080/"
        },
        "id": "mw6UUP31hCBD",
        "outputId": "e1389316-75d3-45fb-fafe-b462b7767535"
      },
      "outputs": [],
      "source": [
        "X.shape"
      ]
    },
    {
      "cell_type": "markdown",
      "metadata": {
        "id": "87johAcRhCBE"
      },
      "source": [
        "We also load names for all of the variables in $\\mathbf{X}$."
      ]
    },
    {
      "cell_type": "code",
      "execution_count": null,
      "metadata": {
        "id": "pSEmWT6fhCBE"
      },
      "outputs": [],
      "source": [
        "X_names = pd.read_csv(url_X_names, sep = ',', header=None).to_numpy().ravel()\n",
        "X_names = X_names[0:-3]"
      ]
    },
    {
      "cell_type": "code",
      "execution_count": null,
      "metadata": {
        "colab": {
          "base_uri": "https://localhost:8080/"
        },
        "id": "TMJ6YKFkhCBE",
        "outputId": "27aaf15a-6a9b-43f1-b939-aed8827b464d"
      },
      "outputs": [],
      "source": [
        "X_names"
      ]
    },
    {
      "cell_type": "markdown",
      "metadata": {
        "id": "eQ0_G7dJhCBF"
      },
      "source": [
        "We also load two additional quantities that will be helpful.\n",
        "\n",
        "The first one is called *mixture fraction*, it represents the local stoichiometry of the flame at every observation in the dataset:"
      ]
    },
    {
      "cell_type": "code",
      "execution_count": null,
      "metadata": {
        "id": "daYUJwidhCBF"
      },
      "outputs": [],
      "source": [
        "mixture_fraction = pd.read_csv(url_X_mf, sep = ',', header=None).to_numpy()"
      ]
    },
    {
      "cell_type": "code",
      "execution_count": null,
      "metadata": {
        "colab": {
          "base_uri": "https://localhost:8080/"
        },
        "id": "NVLKY36bhCBF",
        "outputId": "6c3aedb1-a3fd-4843-d4ce-24ab03de378d"
      },
      "outputs": [],
      "source": [
        "mixture_fraction.shape"
      ]
    },
    {
      "cell_type": "markdown",
      "metadata": {
        "id": "LwZbVr1ehCBF"
      },
      "source": [
        "The second one is called the *heat release rate*, it's a measurement of the amount of heat released in the combustion process corresponding to every observation in the dataset:"
      ]
    },
    {
      "cell_type": "code",
      "execution_count": null,
      "metadata": {
        "id": "AhdBSuR4hCBF"
      },
      "outputs": [],
      "source": [
        "heat_release_rate = pd.read_csv(url_X_hrr, sep = ',', header=None).to_numpy()"
      ]
    },
    {
      "cell_type": "code",
      "execution_count": null,
      "metadata": {
        "colab": {
          "base_uri": "https://localhost:8080/"
        },
        "id": "NLBYj4xWhCBG",
        "outputId": "f4bff901-986f-4e45-ee52-714937071fed"
      },
      "outputs": [],
      "source": [
        "heat_release_rate.shape"
      ]
    },
    {
      "cell_type": "markdown",
      "metadata": {
        "id": "D-mjxRNChCBG"
      },
      "source": [
        "***\n",
        "\n",
        "## Clustering the dataset with K-Means"
      ]
    },
    {
      "cell_type": "markdown",
      "metadata": {
        "id": "5qHjakj7hCBG"
      },
      "source": [
        "We are going to find clusters in the dataset using K-Means clustering technique. The documentation of the K-Means algorithm implementation can be found [here](https://scikit-learn.org/stable/modules/generated/sklearn.cluster.KMeans.html).\n",
        "\n",
        "First, we need to preprocess the dataset. Center and scale the dataset $\\mathbf{X}$ using Auto (standard) scaling in a similar way to what we've done in the previous exercise:"
      ]
    },
    {
      "cell_type": "code",
      "execution_count": null,
      "metadata": {
        "id": "f1qepsLmhCBG"
      },
      "outputs": [],
      "source": []
    },
    {
      "cell_type": "markdown",
      "metadata": {
        "id": "AnvAWEsOhCBG"
      },
      "source": [
        "Perform clustering of the centered and scaled dataset $\\mathbf{X}$ into 4 clusters:"
      ]
    },
    {
      "cell_type": "code",
      "execution_count": null,
      "metadata": {
        "id": "R_hhWA1zhCBG"
      },
      "outputs": [],
      "source": []
    },
    {
      "cell_type": "markdown",
      "metadata": {
        "id": "n37BGtxHhCBG"
      },
      "source": [
        "Visualize the result of clustering in the mixture fraction and temperature space:"
      ]
    },
    {
      "cell_type": "code",
      "execution_count": null,
      "metadata": {
        "colab": {
          "base_uri": "https://localhost:8080/",
          "height": 484
        },
        "id": "bVm8IrDAhCBH",
        "outputId": "9ad22b1e-c235-425e-a2c8-0d541349104f"
      },
      "outputs": [],
      "source": []
    },
    {
      "cell_type": "markdown",
      "metadata": {
        "id": "WfTCRxmOhCBH"
      },
      "source": [
        "Next, we are going to create another clustering solution for comparison. This time, we will run K-Means clustering on the heat release rate variable only.\n",
        "\n",
        "First, let's visualize how the heat release rate (HRR) variable looks like in the mixture fraction and temperature space.\n",
        "- To do:\n",
        "    - Create a scatter plot of mixture fraction versus temperature, and color it with heat release rate.\n",
        "    - Use the colormap called `'inferno'` for a nicer visualization (in `plt.scatter` add `cmap='inferno'`."
      ]
    },
    {
      "cell_type": "code",
      "execution_count": null,
      "metadata": {
        "colab": {
          "base_uri": "https://localhost:8080/",
          "height": 494
        },
        "id": "972AeW27hCBH",
        "outputId": "16c04e03-dd66-4155-9810-40e9ea853766"
      },
      "outputs": [],
      "source": []
    },
    {
      "cell_type": "markdown",
      "metadata": {
        "id": "mQrNr8fUhCBH"
      },
      "source": [
        "From the plot above, you see that there is one localized region, where the heat release rate is the highest. Outside of that region, it is zero or close to zero, meaning that combustion is not occuring."
      ]
    },
    {
      "cell_type": "markdown",
      "metadata": {
        "id": "JZNXpBd9hCBH"
      },
      "source": [
        "Now, perform K-Means clustering if the heat release rate into 4 clusters. Note, that since we now cluster based on a single variable (one vector), it doesn't matter if we scale the vector or not."
      ]
    },
    {
      "cell_type": "code",
      "execution_count": null,
      "metadata": {
        "id": "NAdHfqEEhCBH"
      },
      "outputs": [],
      "source": []
    },
    {
      "cell_type": "markdown",
      "metadata": {
        "id": "dplP8WfuhCBH"
      },
      "source": [
        "Visualize the result of clustering in the mixture fraction and temperature space:"
      ]
    },
    {
      "cell_type": "code",
      "execution_count": null,
      "metadata": {
        "colab": {
          "base_uri": "https://localhost:8080/",
          "height": 484
        },
        "id": "m7UgfrUVhCBI",
        "outputId": "9b7f7c45-ba90-47e5-dc70-d687fb8d43b3"
      },
      "outputs": [],
      "source": []
    },
    {
      "cell_type": "markdown",
      "metadata": {
        "id": "WVMvJPfBhCBI"
      },
      "source": [
        "What do you observe? Can you relate the clusters to different values of the heat release rate variable from the plot you generated earlier?"
      ]
    },
    {
      "cell_type": "markdown",
      "metadata": {
        "id": "p-yXaoYjhCBI"
      },
      "source": [
        "***\n",
        "\n",
        "## Clustering the dataset with VQPCA\n",
        "\n",
        "Below, we are going to also find clustering solution with VQPCA and compare it with the K-Means clustering obtained before.\n",
        "\n",
        "We are going to use the VQPCA implementation from the [OpenMORe package](https://github.com/burn-research/OpenMORe).\n",
        "\n",
        "We import the OpenMORe package and fill in the settings, where you can for instance set how the dataset should be centered and scaled, how many clusters, $k$, you want to create and how many eigenvectors (PCs), $q$, should be used in the cluster reconstruction at each iteration."
      ]
    },
    {
      "cell_type": "code",
      "execution_count": null,
      "metadata": {
        "colab": {
          "base_uri": "https://localhost:8080/"
        },
        "id": "I-fBZS_dhCBI",
        "outputId": "6b9c2fd2-5936-493a-bed6-f9c887624db0"
      },
      "outputs": [],
      "source": [
        "! git clone https://github.com/burn-research/OpenMORe.git\n",
        "\n",
        "import sys\n",
        "\n",
        "sys.path.insert(0,'/content/OpenMORe')\n",
        "import OpenMORe.clustering as clustering"
      ]
    },
    {
      "cell_type": "code",
      "execution_count": null,
      "metadata": {
        "id": "iSmudE-_hCBI"
      },
      "outputs": [],
      "source": [
        "clustering_settings = {\n",
        "    #centering and scaling options\n",
        "    \"center\"                    : True,\n",
        "    \"centering_method\"          : \"mean\",\n",
        "    \"scale\"                     : True,\n",
        "    \"scaling_method\"            : \"auto\",\n",
        "\n",
        "    #set the initialization method (random, observations, kmeans, pkcia, uniform)\n",
        "    \"initialization_method\"     : \"uniform\",\n",
        "\n",
        "    #set the number of clusters and PCs in each cluster\n",
        "    \"number_of_clusters\"        : 4,\n",
        "    \"number_of_eigenvectors\"    : 2,\n",
        "\n",
        "    #enable additional options:\n",
        "    \"correction_factor\"         : \"off\",    # --> enable eventual corrective coefficients for the LPCA algorithm:\n",
        "                                            #     'off', 'c_range', 'uncorrelation', 'local_variance', 'phc_multi', 'local_skewness' are available\n",
        "\n",
        "    \"classify\"                  : False,    # --> call the method to classify a new matrix Y on the basis of the lpca clustering\n",
        "    \"write_on_txt\"              : False,     # --> write the idx vector containing the label for each observation\n",
        "    \"evaluate_clustering\"       : False,     # --> enable the calculation of indeces to evaluate the goodness of the clustering\n",
        "\n",
        "    #improve the clustering solution via kNN\n",
        "    \"kNN_post\"                  : False,     # activate the kNN algorithm once the convergence is achieved\n",
        "    \"neighbors_number\"          : 2,       # set the number of neighbors that has to be taken into account\n",
        "}"
      ]
    },
    {
      "cell_type": "markdown",
      "metadata": {
        "id": "JuxVBEyKhCBJ"
      },
      "source": [
        "Perform VQPCA clustering of the centered and scaled dataset $\\mathbf{X}$ into 4 clusters:"
      ]
    },
    {
      "cell_type": "code",
      "execution_count": null,
      "metadata": {
        "colab": {
          "base_uri": "https://localhost:8080/"
        },
        "id": "KPjdKeOzhCBJ",
        "outputId": "93242ff0-a512-48b9-f416-de61471b50bf"
      },
      "outputs": [],
      "source": []
    },
    {
      "cell_type": "markdown",
      "metadata": {
        "id": "cIy--lGVhCBJ"
      },
      "source": [
        "Visualize the result of clustering in the mixture fraction and temperature space:"
      ]
    },
    {
      "cell_type": "code",
      "execution_count": null,
      "metadata": {
        "colab": {
          "base_uri": "https://localhost:8080/",
          "height": 484
        },
        "id": "L4OawK9MhCBJ",
        "outputId": "b5693655-77ec-4e56-f411-0eacfbeb775e"
      },
      "outputs": [],
      "source": []
    },
    {
      "cell_type": "markdown",
      "metadata": {
        "id": "1MUM9SL4hCBJ"
      },
      "source": [
        "Go back to the `clustering_settings` dictionary and play with changing the number of clusters and the number of eigenvectors.\n",
        "\n",
        "Are the differences in clustering solution subtle or significant?"
      ]
    }
  ],
  "metadata": {
    "colab": {
      "provenance": []
    },
    "kernelspec": {
      "display_name": "env_ml2",
      "language": "python",
      "name": "python3"
    },
    "language_info": {
      "codemirror_mode": {
        "name": "ipython",
        "version": 3
      },
      "file_extension": ".py",
      "mimetype": "text/x-python",
      "name": "python",
      "nbconvert_exporter": "python",
      "pygments_lexer": "ipython3",
      "version": "3.9.16"
    }
  },
  "nbformat": 4,
  "nbformat_minor": 0
}
